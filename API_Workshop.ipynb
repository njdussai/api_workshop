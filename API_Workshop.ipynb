{
 "cells": [
  {
   "cell_type": "markdown",
   "source": [
    "## Workshop: Getting Data from an API\n",
    "### DSEA: Data Science & Education Association\n",
    "### Teachers College, Columbia University\n",
    "\n",
    "**Author:** Nicolás Dussaillant (MS in Learning Analytics)"
   ],
   "metadata": {}
  },
  {
   "cell_type": "markdown",
   "source": [
    "## Preparation"
   ],
   "metadata": {}
  },
  {
   "cell_type": "code",
   "execution_count": 36,
   "source": [
    "import requests\n",
    "import pandas as pd"
   ],
   "outputs": [],
   "metadata": {}
  },
  {
   "cell_type": "markdown",
   "source": [
    "## College Scoreboard\n",
    "Info:\n",
    "* [Main Website](https://collegescorecard.ed.gov/): Information about this dataset from the US Department of Education.\n",
    "* [API Documentation](https://collegescorecard.ed.gov/data/documentation/): Data Documentation: data dictionary, techninal documentation, and API documentation structure and Register form for an API key.\n",
    "* [API Documentation HTTP specific](https://github.com/RTICWDT/open-data-maker/blob/master/API.md): Specifics about how to properly use this API."
   ],
   "metadata": {}
  },
  {
   "cell_type": "markdown",
   "source": [
    "Read API key stored in file \"collegescoreboard_api_key.txt\""
   ],
   "metadata": {}
  },
  {
   "cell_type": "code",
   "execution_count": 21,
   "source": [
    "# Open the file\n",
    "fd = open('collegescoreboard_api_key.txt', 'r')\n",
    "\n",
    "# Read the key from the first line\n",
    "cs_api_key = fd.read()"
   ],
   "outputs": [],
   "metadata": {}
  },
  {
   "cell_type": "markdown",
   "source": [
    "## Raw request"
   ],
   "metadata": {}
  },
  {
   "cell_type": "markdown",
   "source": [
    "Doing the request creating a string with the url"
   ],
   "metadata": {}
  },
  {
   "cell_type": "code",
   "execution_count": 41,
   "source": [
    "base_url = 'https://api.data.gov/ed/collegescorecard/v1/schools.json'\n",
    "\n",
    "test_url = 'https://api.data.gov/ed/collegescorecard/v1/schools.json?school.degrees_awarded.predominant=frog&_fields=id,school.name,wombat' + f'&api_key={cs_api_key}'\n",
    "\n",
    "x = requests.get(test_url)\n",
    "x.content"
   ],
   "outputs": [
    {
     "output_type": "execute_result",
     "data": {
      "text/plain": [
       "b'{\"metadata\":{\"page\":0,\"total\":507,\"per_page\":20},\"results\":[{\"school.name\":\"Stockton Christian Life College\",\"id\":112093},{\"school.name\":\"HSHS St. John\\'s Hospital School of Clinical Laboratory Science\",\"id\":364122},{\"school.name\":\"Troy University-Phenix City Campus\",\"id\":10236801},{\"school.name\":\"Troy University-Montgomery Campus\",\"id\":10236802},{\"school.name\":\"Troy University-Dothan Campus\",\"id\":10236803},{\"school.name\":\"Troy University-Online\",\"id\":10236808},{\"school.name\":\"Troy University-Support Sites\",\"id\":10236809},{\"school.name\":\"Arkansas College of Barbering and Hair Design\",\"id\":10635101},{\"school.name\":\"Harding School of Theology\",\"id\":10704401},{\"school.name\":\"Career Academy of Hair Design-Siloam Springs\",\"id\":10722001},{\"school.name\":\"Career Academy of Hair Design-Rogers\",\"id\":10722002},{\"school.name\":\"Career Academy of Hair Design-Fayetteville\",\"id\":10722003},{\"school.name\":\"Career Academy of Hair Design - Fort Smith\",\"id\":10722004},{\"school.name\":\"University of Arkansas Community College at Hope - Texarkana\",\"id\":10772501},{\"school.name\":\"Alliant International University-Fresno\",\"id\":11046801},{\"school.name\":\"Alliant International University-Los Angeles\",\"id\":11046802},{\"school.name\":\"Alliant International University-San Francisco\",\"id\":11046803},{\"school.name\":\"Alliant International University-Irvine\",\"id\":11046804},{\"school.name\":\"Alliant International University-Sacramento\",\"id\":11046805},{\"school.name\":\"Flashpoint Chicago A Campus of Columbia College Hollywood\",\"id\":11257001}]}'"
      ]
     },
     "metadata": {},
     "execution_count": 41
    }
   ],
   "metadata": {}
  },
  {
   "cell_type": "code",
   "execution_count": 35,
   "source": [
    "# Using the JSON method to have a better visualization and storing it as a dict\n",
    "obj = x.json()\n",
    "obj"
   ],
   "outputs": [
    {
     "output_type": "execute_result",
     "data": {
      "text/plain": [
       "{'metadata': {'page': 0, 'total': 507, 'per_page': 20},\n",
       " 'results': [{'school.name': 'Stockton Christian Life College', 'id': 112093},\n",
       "  {'school.name': \"HSHS St. John's Hospital School of Clinical Laboratory Science\",\n",
       "   'id': 364122},\n",
       "  {'school.name': 'Troy University-Phenix City Campus', 'id': 10236801},\n",
       "  {'school.name': 'Troy University-Montgomery Campus', 'id': 10236802},\n",
       "  {'school.name': 'Troy University-Dothan Campus', 'id': 10236803},\n",
       "  {'school.name': 'Troy University-Online', 'id': 10236808},\n",
       "  {'school.name': 'Troy University-Support Sites', 'id': 10236809},\n",
       "  {'school.name': 'Arkansas College of Barbering and Hair Design',\n",
       "   'id': 10635101},\n",
       "  {'school.name': 'Harding School of Theology', 'id': 10704401},\n",
       "  {'school.name': 'Career Academy of Hair Design-Siloam Springs',\n",
       "   'id': 10722001},\n",
       "  {'school.name': 'Career Academy of Hair Design-Rogers', 'id': 10722002},\n",
       "  {'school.name': 'Career Academy of Hair Design-Fayetteville',\n",
       "   'id': 10722003},\n",
       "  {'school.name': 'Career Academy of Hair Design - Fort Smith',\n",
       "   'id': 10722004},\n",
       "  {'school.name': 'University of Arkansas Community College at Hope - Texarkana',\n",
       "   'id': 10772501},\n",
       "  {'school.name': 'Alliant International University-Fresno', 'id': 11046801},\n",
       "  {'school.name': 'Alliant International University-Los Angeles',\n",
       "   'id': 11046802},\n",
       "  {'school.name': 'Alliant International University-San Francisco',\n",
       "   'id': 11046803},\n",
       "  {'school.name': 'Alliant International University-Irvine', 'id': 11046804},\n",
       "  {'school.name': 'Alliant International University-Sacramento',\n",
       "   'id': 11046805},\n",
       "  {'school.name': 'Flashpoint Chicago A Campus of Columbia College Hollywood',\n",
       "   'id': 11257001}]}"
      ]
     },
     "metadata": {},
     "execution_count": 35
    }
   ],
   "metadata": {}
  },
  {
   "cell_type": "code",
   "execution_count": 40,
   "source": [
    "# Using it in pandas\n",
    "df = pd.DataFrame(obj[\"results\"])\n",
    "df"
   ],
   "outputs": [
    {
     "output_type": "execute_result",
     "data": {
      "text/html": [
       "<div>\n",
       "<style scoped>\n",
       "    .dataframe tbody tr th:only-of-type {\n",
       "        vertical-align: middle;\n",
       "    }\n",
       "\n",
       "    .dataframe tbody tr th {\n",
       "        vertical-align: top;\n",
       "    }\n",
       "\n",
       "    .dataframe thead th {\n",
       "        text-align: right;\n",
       "    }\n",
       "</style>\n",
       "<table border=\"1\" class=\"dataframe\">\n",
       "  <thead>\n",
       "    <tr style=\"text-align: right;\">\n",
       "      <th></th>\n",
       "      <th>school.name</th>\n",
       "      <th>id</th>\n",
       "    </tr>\n",
       "  </thead>\n",
       "  <tbody>\n",
       "    <tr>\n",
       "      <th>0</th>\n",
       "      <td>Stockton Christian Life College</td>\n",
       "      <td>112093</td>\n",
       "    </tr>\n",
       "    <tr>\n",
       "      <th>1</th>\n",
       "      <td>HSHS St. John's Hospital School of Clinical La...</td>\n",
       "      <td>364122</td>\n",
       "    </tr>\n",
       "    <tr>\n",
       "      <th>2</th>\n",
       "      <td>Troy University-Phenix City Campus</td>\n",
       "      <td>10236801</td>\n",
       "    </tr>\n",
       "    <tr>\n",
       "      <th>3</th>\n",
       "      <td>Troy University-Montgomery Campus</td>\n",
       "      <td>10236802</td>\n",
       "    </tr>\n",
       "    <tr>\n",
       "      <th>4</th>\n",
       "      <td>Troy University-Dothan Campus</td>\n",
       "      <td>10236803</td>\n",
       "    </tr>\n",
       "    <tr>\n",
       "      <th>5</th>\n",
       "      <td>Troy University-Online</td>\n",
       "      <td>10236808</td>\n",
       "    </tr>\n",
       "    <tr>\n",
       "      <th>6</th>\n",
       "      <td>Troy University-Support Sites</td>\n",
       "      <td>10236809</td>\n",
       "    </tr>\n",
       "    <tr>\n",
       "      <th>7</th>\n",
       "      <td>Arkansas College of Barbering and Hair Design</td>\n",
       "      <td>10635101</td>\n",
       "    </tr>\n",
       "    <tr>\n",
       "      <th>8</th>\n",
       "      <td>Harding School of Theology</td>\n",
       "      <td>10704401</td>\n",
       "    </tr>\n",
       "    <tr>\n",
       "      <th>9</th>\n",
       "      <td>Career Academy of Hair Design-Siloam Springs</td>\n",
       "      <td>10722001</td>\n",
       "    </tr>\n",
       "    <tr>\n",
       "      <th>10</th>\n",
       "      <td>Career Academy of Hair Design-Rogers</td>\n",
       "      <td>10722002</td>\n",
       "    </tr>\n",
       "    <tr>\n",
       "      <th>11</th>\n",
       "      <td>Career Academy of Hair Design-Fayetteville</td>\n",
       "      <td>10722003</td>\n",
       "    </tr>\n",
       "    <tr>\n",
       "      <th>12</th>\n",
       "      <td>Career Academy of Hair Design - Fort Smith</td>\n",
       "      <td>10722004</td>\n",
       "    </tr>\n",
       "    <tr>\n",
       "      <th>13</th>\n",
       "      <td>University of Arkansas Community College at Ho...</td>\n",
       "      <td>10772501</td>\n",
       "    </tr>\n",
       "    <tr>\n",
       "      <th>14</th>\n",
       "      <td>Alliant International University-Fresno</td>\n",
       "      <td>11046801</td>\n",
       "    </tr>\n",
       "    <tr>\n",
       "      <th>15</th>\n",
       "      <td>Alliant International University-Los Angeles</td>\n",
       "      <td>11046802</td>\n",
       "    </tr>\n",
       "    <tr>\n",
       "      <th>16</th>\n",
       "      <td>Alliant International University-San Francisco</td>\n",
       "      <td>11046803</td>\n",
       "    </tr>\n",
       "    <tr>\n",
       "      <th>17</th>\n",
       "      <td>Alliant International University-Irvine</td>\n",
       "      <td>11046804</td>\n",
       "    </tr>\n",
       "    <tr>\n",
       "      <th>18</th>\n",
       "      <td>Alliant International University-Sacramento</td>\n",
       "      <td>11046805</td>\n",
       "    </tr>\n",
       "    <tr>\n",
       "      <th>19</th>\n",
       "      <td>Flashpoint Chicago A Campus of Columbia Colleg...</td>\n",
       "      <td>11257001</td>\n",
       "    </tr>\n",
       "  </tbody>\n",
       "</table>\n",
       "</div>"
      ],
      "text/plain": [
       "                                          school.name        id\n",
       "0                     Stockton Christian Life College    112093\n",
       "1   HSHS St. John's Hospital School of Clinical La...    364122\n",
       "2                  Troy University-Phenix City Campus  10236801\n",
       "3                   Troy University-Montgomery Campus  10236802\n",
       "4                       Troy University-Dothan Campus  10236803\n",
       "5                              Troy University-Online  10236808\n",
       "6                       Troy University-Support Sites  10236809\n",
       "7       Arkansas College of Barbering and Hair Design  10635101\n",
       "8                          Harding School of Theology  10704401\n",
       "9        Career Academy of Hair Design-Siloam Springs  10722001\n",
       "10               Career Academy of Hair Design-Rogers  10722002\n",
       "11         Career Academy of Hair Design-Fayetteville  10722003\n",
       "12         Career Academy of Hair Design - Fort Smith  10722004\n",
       "13  University of Arkansas Community College at Ho...  10772501\n",
       "14            Alliant International University-Fresno  11046801\n",
       "15       Alliant International University-Los Angeles  11046802\n",
       "16     Alliant International University-San Francisco  11046803\n",
       "17            Alliant International University-Irvine  11046804\n",
       "18        Alliant International University-Sacramento  11046805\n",
       "19  Flashpoint Chicago A Campus of Columbia Colleg...  11257001"
      ]
     },
     "metadata": {},
     "execution_count": 40
    }
   ],
   "metadata": {}
  },
  {
   "cell_type": "code",
   "execution_count": 42,
   "source": [
    "# Save it as CSV\n",
    "df.to_csv(\"college_scoreboard.csv\")"
   ],
   "outputs": [],
   "metadata": {}
  }
 ],
 "metadata": {
  "kernelspec": {
   "name": "python3",
   "display_name": "Python 3.8.12 64-bit ('base': conda)"
  },
  "language_info": {
   "codemirror_mode": {
    "name": "ipython",
    "version": 3
   },
   "file_extension": ".py",
   "mimetype": "text/x-python",
   "name": "python",
   "nbconvert_exporter": "python",
   "pygments_lexer": "ipython3",
   "version": "3.8.12"
  },
  "interpreter": {
   "hash": "6034267fc735e6f211b54e6db3b024727ff25aaf139d75f07ed61a9d39c58b2d"
  }
 },
 "nbformat": 4,
 "nbformat_minor": 5
}