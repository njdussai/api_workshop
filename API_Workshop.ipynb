{
 "cells": [
  {
   "cell_type": "markdown",
   "source": [
    "## DSEA \n",
    "### Teachers College, Columbia University\n",
    "\n",
    "**Nicolás Dussaillant**"
   ],
   "metadata": {}
  },
  {
   "cell_type": "code",
   "execution_count": 8,
   "source": [
    "import json\n",
    "from types import SimpleNamespace\n",
    "import requests\n",
    "\n",
    "x = requests.get('http://stats.oecd.org/sdmx-json/data/QNA/AUS+AUT.GDP+B1_GE.CUR+VOBARSA.Q/all?startTime=2009-Q2&endTime=2011-Q4')\n",
    "\n",
    "obj = x.json()\n",
    "\n",
    "obj['header']"
   ],
   "outputs": [
    {
     "output_type": "execute_result",
     "data": {
      "text/plain": [
       "{'id': 'e9035c13-a2ce-47cc-9804-e9890b87fac6',\n",
       " 'test': False,\n",
       " 'prepared': '2022-04-05T04:22:58.3223586Z',\n",
       " 'sender': {'id': 'OECD',\n",
       "  'name': 'Organisation for Economic Co-operation and Development'},\n",
       " 'links': [{'href': 'https://stats.oecd.org:443/sdmx-json/data/QNA/AUS+AUT.GDP+B1_GE.CUR+VOBARSA.Q/all?startTime=2009-Q2&endTime=2011-Q4',\n",
       "   'rel': 'request'}]}"
      ]
     },
     "metadata": {},
     "execution_count": 8
    }
   ],
   "metadata": {}
  },
  {
   "cell_type": "code",
   "execution_count": null,
   "source": [
    "print(17+2)"
   ],
   "outputs": [],
   "metadata": {}
  },
  {
   "cell_type": "markdown",
   "source": [
    "PISA 2018, student questionnaire"
   ],
   "metadata": {}
  },
  {
   "cell_type": "code",
   "execution_count": 9,
   "source": [
    "http://stats.oecd.org/restsdmx/sdmx.ashx/GetDataStructure/<dataset identifier>"
   ],
   "outputs": [
    {
     "output_type": "error",
     "ename": "SyntaxError",
     "evalue": "invalid syntax (3326255393.py, line 1)",
     "traceback": [
      "\u001b[0;36m  File \u001b[0;32m\"/var/folders/lc/stkk_5mx3gq9ypk8pz7l_74w0000gn/T/ipykernel_8392/3326255393.py\"\u001b[0;36m, line \u001b[0;32m1\u001b[0m\n\u001b[0;31m    http://stats.oecd.org/restsdmx/sdmx.ashx/GetDataStructure/<dataset identifier>\u001b[0m\n\u001b[0m         ^\u001b[0m\n\u001b[0;31mSyntaxError\u001b[0m\u001b[0;31m:\u001b[0m invalid syntax\n"
     ]
    }
   ],
   "metadata": {}
  },
  {
   "cell_type": "code",
   "execution_count": 10,
   "source": [
    "url_req = 'http://stats.oecd.org/restsdmx/sdmx.ashx/GetDataStructure/CY07_MSU_STU_QQQ'\n",
    "\n",
    "x = requests.get(url_req)"
   ],
   "outputs": [],
   "metadata": {}
  },
  {
   "cell_type": "markdown",
   "source": [
    "http\\://stats.oecd.org\\/SDMX-JSON/data/<dataset identifier\\>/\\<filter expression\\>/\\<agency name\\>\\[ ?\\<additional parameters\\>\\]"
   ],
   "metadata": {}
  },
  {
   "cell_type": "code",
   "execution_count": null,
   "source": [
    "url_req = 'http://stats.oecd.org/SDMX-JSON/data/'\n",
    "            'CY07_MSU_STU_QQQ/\n",
    "            'ST012Q01TA/<agency name>[ ?<additional parameters>]'"
   ],
   "outputs": [],
   "metadata": {}
  }
 ],
 "metadata": {
  "kernelspec": {
   "display_name": "Python 3 (ipykernel)",
   "language": "python",
   "name": "python3"
  },
  "language_info": {
   "codemirror_mode": {
    "name": "ipython",
    "version": 3
   },
   "file_extension": ".py",
   "mimetype": "text/x-python",
   "name": "python",
   "nbconvert_exporter": "python",
   "pygments_lexer": "ipython3",
   "version": "3.8.12"
  }
 },
 "nbformat": 4,
 "nbformat_minor": 5
}